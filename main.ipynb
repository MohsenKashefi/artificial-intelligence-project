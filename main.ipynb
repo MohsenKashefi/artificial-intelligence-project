{
 "cells": [
  {
   "cell_type": "markdown",
   "metadata": {},
   "source": [
    "This code snippet imports necessary libraries (random, seaborn, matplotlib.pyplot, numpy) and modules (gridworld, monte_Carlo) for further use in the program"
   ]
  },
  {
   "cell_type": "code",
   "execution_count": 16,
   "metadata": {},
   "outputs": [],
   "source": [
    "import random\n",
    "import seaborn as sns\n",
    "import matplotlib.pyplot as plt\n",
    "import numpy as np\n",
    "from gridworld import *\n",
    "from monte_Carlo import *"
   ]
  },
  {
   "cell_type": "markdown",
   "metadata": {},
   "source": [
    "This code defines a function plot_state_values(V) that visualizes a state value function represented by the input V (a dictionary mapping state coordinates to their corresponding values). It creates a 5x5 grid, assigns the state values to the corresponding positions, and displays a heatmap with annotations using matplotlib. The color map 'coolwarm' is used, and a color bar is added for reference. The resulting plot provides a visual representation of the state values in the gridworld."
   ]
  },
  {
   "cell_type": "code",
   "execution_count": 17,
   "metadata": {},
   "outputs": [],
   "source": [
    "def plot_state_values(V):\n",
    "    values = np.zeros((5, 5))\n",
    "    fig, ax = plt.subplots(figsize=(8, 6))\n",
    "    for y in range(5):\n",
    "        for x in range(5):\n",
    "            values[y, x] = V[(y, x)]\n",
    "\n",
    "    ax.matshow(values, cmap='coolwarm')\n",
    "    for i in range(5):\n",
    "        for j in range(5):\n",
    "            c = values[i, j]\n",
    "            ax.text(j, i, f'{c:.2f}', va='center', ha='center')\n",
    "    plt.colorbar(ax.matshow(values, cmap='coolwarm'), ax=ax)\n",
    "    plt.title(\"state values\")\n",
    "    plt.show()"
   ]
  },
  {
   "cell_type": "markdown",
   "metadata": {},
   "source": [
    "\n",
    "This code block is the main entry point for the program. It initializes a Gridworld, sets the number of episodes to 10,000, and the discount factor (gamma) to 0.9. Then, it creates an instance of MonteCarloPolicyEvaluation named mc_policy_eval with the specified parameters. The evaluate_policy() method is called to perform Monte Carlo policy evaluation, and the resulting state value function (V) is obtained using the get_value_function() method. Finally, the plot_state_values(V) function is called to visualize the state values in the gridworld. Overall, this script demonstrates the Monte Carlo policy evaluation for a gridworld environment and visualizes the learned state values."
   ]
  },
  {
   "cell_type": "markdown",
   "metadata": {},
   "source": [
    " Function to print the grid"
   ]
  },
  {
   "cell_type": "code",
   "execution_count": 18,
   "metadata": {},
   "outputs": [],
   "source": [
    "\n",
    "def print_values(V, gridworld):\n",
    "    for i in range(len(V)):\n",
    "        print('-------------------------------------------------')\n",
    "        for j in range(len(V[0])):\n",
    "            v = V[i][j]\n",
    "            if v >= 0:\n",
    "                print(\" %.2f|\" % v, end=\"\")\n",
    "            else:\n",
    "                print(\"%.2f|\" % v, end=\"\")  # Negative values don't have a space\n",
    "        print(\"\")\n",
    "    print('-------------------------------------------------')"
   ]
  },
  {
   "cell_type": "code",
   "execution_count": 19,
   "metadata": {},
   "outputs": [
    {
     "name": "stdout",
     "output_type": "stream",
     "text": [
      "-------------------------------------------------\n",
      " 3.95| 10.00| 4.92| 5.00| 1.25|\n",
      "-------------------------------------------------\n",
      " 1.89| 3.43| 2.51| 1.93| 0.53|\n",
      "-------------------------------------------------\n",
      " 0.27| 0.96| 0.74| 0.43|-0.45|\n",
      "-------------------------------------------------\n",
      "-0.89|-0.34|-0.28|-0.56|-1.16|\n",
      "-------------------------------------------------\n",
      "-1.81|-1.26|-1.15|-1.38|-1.95|\n",
      "-------------------------------------------------\n"
     ]
    },
    {
     "ename": "ModuleNotFoundError",
     "evalue": "No module named 'matplotlib.backends'",
     "output_type": "error",
     "traceback": [
      "\u001b[1;31m---------------------------------------------------------------------------\u001b[0m",
      "\u001b[1;31mModuleNotFoundError\u001b[0m                       Traceback (most recent call last)",
      "Cell \u001b[1;32mIn[19], line 10\u001b[0m\n\u001b[0;32m      8\u001b[0m V \u001b[38;5;241m=\u001b[39m mc_policy_eval\u001b[38;5;241m.\u001b[39mget_value_function()\n\u001b[0;32m      9\u001b[0m print_values(V, gridworld)\n\u001b[1;32m---> 10\u001b[0m \u001b[43mplot_state_values\u001b[49m\u001b[43m(\u001b[49m\u001b[43mV\u001b[49m\u001b[43m)\u001b[49m\n",
      "Cell \u001b[1;32mIn[17], line 3\u001b[0m, in \u001b[0;36mplot_state_values\u001b[1;34m(V)\u001b[0m\n\u001b[0;32m      1\u001b[0m \u001b[38;5;28;01mdef\u001b[39;00m \u001b[38;5;21mplot_state_values\u001b[39m(V):\n\u001b[0;32m      2\u001b[0m     values \u001b[38;5;241m=\u001b[39m np\u001b[38;5;241m.\u001b[39mzeros((\u001b[38;5;241m5\u001b[39m, \u001b[38;5;241m5\u001b[39m))\n\u001b[1;32m----> 3\u001b[0m     fig, ax \u001b[38;5;241m=\u001b[39m \u001b[43mplt\u001b[49m\u001b[38;5;241;43m.\u001b[39;49m\u001b[43msubplots\u001b[49m\u001b[43m(\u001b[49m\u001b[43mfigsize\u001b[49m\u001b[38;5;241;43m=\u001b[39;49m\u001b[43m(\u001b[49m\u001b[38;5;241;43m8\u001b[39;49m\u001b[43m,\u001b[49m\u001b[43m \u001b[49m\u001b[38;5;241;43m6\u001b[39;49m\u001b[43m)\u001b[49m\u001b[43m)\u001b[49m\n\u001b[0;32m      4\u001b[0m     \u001b[38;5;28;01mfor\u001b[39;00m y \u001b[38;5;129;01min\u001b[39;00m \u001b[38;5;28mrange\u001b[39m(\u001b[38;5;241m5\u001b[39m):\n\u001b[0;32m      5\u001b[0m         \u001b[38;5;28;01mfor\u001b[39;00m x \u001b[38;5;129;01min\u001b[39;00m \u001b[38;5;28mrange\u001b[39m(\u001b[38;5;241m5\u001b[39m):\n",
      "File \u001b[1;32mc:\\Users\\Mohsen\\miniconda3\\lib\\site-packages\\matplotlib\\pyplot.py:1455\u001b[0m, in \u001b[0;36msubplots\u001b[1;34m(nrows, ncols, sharex, sharey, squeeze, subplot_kw, gridspec_kw, **fig_kw)\u001b[0m\n",
      "File \u001b[1;32mc:\\Users\\Mohsen\\miniconda3\\lib\\site-packages\\matplotlib\\pyplot.py:808\u001b[0m, in \u001b[0;36mfigure\u001b[1;34m(num, figsize, dpi, facecolor, edgecolor, frameon, FigureClass, clear, **kwargs)\u001b[0m\n",
      "File \u001b[1;32mc:\\Users\\Mohsen\\miniconda3\\lib\\site-packages\\matplotlib\\pyplot.py:326\u001b[0m, in \u001b[0;36mnew_figure_manager\u001b[1;34m(*args, **kwargs)\u001b[0m\n",
      "File \u001b[1;32mc:\\Users\\Mohsen\\miniconda3\\lib\\site-packages\\matplotlib\\pyplot.py:316\u001b[0m, in \u001b[0;36m_warn_if_gui_out_of_main_thread\u001b[1;34m()\u001b[0m\n",
      "File \u001b[1;32mc:\\Users\\Mohsen\\miniconda3\\lib\\site-packages\\matplotlib\\pyplot.py:217\u001b[0m, in \u001b[0;36m_get_backend_mod\u001b[1;34m()\u001b[0m\n",
      "File \u001b[1;32mc:\\Users\\Mohsen\\miniconda3\\lib\\site-packages\\matplotlib\\pyplot.py:242\u001b[0m, in \u001b[0;36mswitch_backend\u001b[1;34m(newbackend)\u001b[0m\n",
      "\u001b[1;31mModuleNotFoundError\u001b[0m: No module named 'matplotlib.backends'"
     ]
    }
   ],
   "source": [
    "if __name__ == \"__main__\":\n",
    " gridworld = Gridworld()\n",
    "num_episodes = 10000\n",
    "gamma = 0.9\n",
    "\n",
    "mc_policy_eval = MonteCarloPolicyEvaluation(gridworld, num_episodes, gamma)\n",
    "mc_policy_eval.evaluate_policy()\n",
    "V = mc_policy_eval.get_value_function()\n",
    "print_values(V, gridworld)\n",
    "plot_state_values(V)"
   ]
  }
 ],
 "metadata": {
  "kernelspec": {
   "display_name": "base",
   "language": "python",
   "name": "python3"
  },
  "language_info": {
   "codemirror_mode": {
    "name": "ipython",
    "version": 3
   },
   "file_extension": ".py",
   "mimetype": "text/x-python",
   "name": "python",
   "nbconvert_exporter": "python",
   "pygments_lexer": "ipython3",
   "version": "3.8.13"
  }
 },
 "nbformat": 4,
 "nbformat_minor": 2
}
